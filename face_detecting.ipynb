{
 "cells": [
  {
   "cell_type": "code",
   "execution_count": 1,
   "metadata": {},
   "outputs": [],
   "source": [
    "import cv2\n",
    "import face_recognition\n",
    "from datetime import datetime\n",
    "import pandas as pd"
   ]
  },
  {
   "cell_type": "code",
   "execution_count": 18,
   "metadata": {},
   "outputs": [
    {
     "name": "stdout",
     "output_type": "stream",
     "text": [
      "Employee ID: employee_id_1\n",
      "Name: Sina Dehghanian\n",
      "Position: Data Scientist\n",
      "Department: Data Science\n",
      "Date and Time: 2023-07-26 16:14:01\n",
      "Action: Exited\n"
     ]
    }
   ],
   "source": [
    "def compare_faces(employee_image_path, camera_feed):\n",
    "    # Load the employee's image for comparison\n",
    "    employee_image = face_recognition.load_image_file(employee_image_path)\n",
    "    employee_encoding = face_recognition.face_encodings(employee_image)[0]\n",
    "\n",
    "    # Convert the camera feed to RGB format (face_recognition uses RGB)\n",
    "    camera_rgb = cv2.cvtColor(camera_feed, cv2.COLOR_BGR2RGB)\n",
    "\n",
    "    # Detect faces in the camera feed\n",
    "    face_locations = face_recognition.face_locations(camera_rgb)\n",
    "    face_encodings = face_recognition.face_encodings(camera_rgb, face_locations)\n",
    "\n",
    "    # Compare the detected face with each employee's face using face_recognition library\n",
    "    for face_encoding, face_location in zip(face_encodings, face_locations):\n",
    "        matches = face_recognition.compare_faces([employee_encoding], face_encoding)\n",
    "\n",
    "    if True in matches:\n",
    "        for _, employee_info in employee_data.iterrows():\n",
    "            if employee_info['ImagePath'] == employee_image_path:\n",
    "                current_time = datetime.now().strftime('%Y-%m-%d %H:%M:%S')\n",
    "                # Check if the employee data is already present in the CSV file\n",
    "                try:\n",
    "                    df = pd.read_csv(\"employee_log.csv\")\n",
    "                except FileNotFoundError:\n",
    "                    df = pd.DataFrame(columns=[\"EmployeeID\", \"Name\", \"Position\", \"Department\", \"Date and Time\", \"Action\"])\n",
    "\n",
    "                # Check if the employee is already in the CSV log\n",
    "                if employee_info['EmployeeID'] in df[\"EmployeeID\"].values:\n",
    "                    last_action = df[df[\"EmployeeID\"] == employee_info['EmployeeID']].iloc[-1][\"Action\"]\n",
    "                    if last_action == \"Entered\":\n",
    "                        action = \"Exited\"\n",
    "                    else:\n",
    "                        action = \"Entered\"\n",
    "                else:\n",
    "                    action = \"Entered\"\n",
    "\n",
    "                # Append the new entry to the CSV file\n",
    "                new_entry = pd.DataFrame([[employee_info['EmployeeID'], employee_info['Name'],\n",
    "                                           employee_info['Position'], employee_info['Department'],\n",
    "                                           current_time, action]],\n",
    "                                         columns=[\"EmployeeID\", \"Name\", \"Position\", \"Department\", \"Date and Time\", \"Action\"])\n",
    "                df = pd.concat([df, new_entry], ignore_index=True)\n",
    "\n",
    "                # Save the updated DataFrame to the CSV file\n",
    "                df.to_csv(\"employee_log.csv\", index=False)\n",
    "\n",
    "                # Print the employee information and action\n",
    "                print(f\"Employee ID: {employee_info['EmployeeID']}\")\n",
    "                print(f\"Name: {employee_info['Name']}\")\n",
    "                print(f\"Position: {employee_info['Position']}\")\n",
    "                print(f\"Department: {employee_info['Department']}\")\n",
    "                print(f\"Date and Time: {current_time}\")\n",
    "                print(f\"Action: {action}\")\n",
    "\n",
    "                return True\n",
    "\n",
    "    return False\n",
    "\n",
    "def delete_data():\n",
    "    try:\n",
    "        df = pd.read_csv(\"employee_log.csv\")\n",
    "        if not df.empty:\n",
    "            df.drop(df.index, inplace=True)\n",
    "            df.to_csv(\"employee_log.csv\", index=False)\n",
    "            print(\"Data in the log file has been deleted.\")\n",
    "        else:\n",
    "            print(\"Log file is already empty.\")\n",
    "    except FileNotFoundError:\n",
    "        print(\"Log file not found.\")\n",
    "\n",
    "if __name__ == \"__main__\":\n",
    "    # Read employee information from the CSV file\n",
    "    employee_data = pd.read_csv(\"employee_info.csv\")\n",
    "\n",
    "    camera = cv2.VideoCapture(0)  # Access the laptop camera\n",
    "\n",
    "    ret, frame = camera.read()\n",
    "    if ret:\n",
    "        is_employee_detected = False\n",
    "        for _, employee_info in employee_data.iterrows():\n",
    "            if compare_faces(employee_info['ImagePath'], frame):\n",
    "                is_employee_detected = True\n",
    "                break\n",
    "\n",
    "        if not is_employee_detected:\n",
    "            print(\"Not an employee.\")\n",
    "\n",
    "    camera.release()\n",
    "    cv2.destroyAllWindows()\n"
   ]
  },
  {
   "cell_type": "code",
   "execution_count": 11,
   "metadata": {},
   "outputs": [
    {
     "name": "stdout",
     "output_type": "stream",
     "text": [
      "Data in the log file has been deleted.\n"
     ]
    }
   ],
   "source": [
    "# Call the delete_data() function to remove data from the CSV log file\n",
    "delete_data()"
   ]
  }
 ],
 "metadata": {
  "kernelspec": {
   "display_name": "Python 3.10.4 64-bit",
   "language": "python",
   "name": "python3"
  },
  "language_info": {
   "codemirror_mode": {
    "name": "ipython",
    "version": 3
   },
   "file_extension": ".py",
   "mimetype": "text/x-python",
   "name": "python",
   "nbconvert_exporter": "python",
   "pygments_lexer": "ipython3",
   "version": "3.10.4"
  },
  "orig_nbformat": 4,
  "vscode": {
   "interpreter": {
    "hash": "9a04dbfbe215b13b854bddd6b429b2c7cb84b0bc1630f2d25a24cb76a9bcf55a"
   }
  }
 },
 "nbformat": 4,
 "nbformat_minor": 2
}
