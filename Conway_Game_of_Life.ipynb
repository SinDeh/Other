{
 "cells": [
  {
   "cell_type": "code",
   "execution_count": 52,
   "metadata": {},
   "outputs": [],
   "source": [
    "import numpy as np\n",
    "from random import randint\n",
    "from matplotlib import pyplot as plt\n",
    "from time import sleep\n",
    "from IPython.display import clear_output"
   ]
  },
  {
   "cell_type": "code",
   "execution_count": 53,
   "metadata": {},
   "outputs": [],
   "source": [
    "column = 50\n",
    "row = 50\n",
    "universe = np.zeros((column, row))\n",
    "def build_cell(range_black_cell: int = column + 100) -> None:\n",
    "    \"\"\" \n",
    "    jahan bazi ra misazad. be in sorat ke:\n",
    "    be sorat random cell_array ra 1 midahad ta an cell baraye bazi faal shavad.\n",
    "    \"\"\"\n",
    "    for _ in range(range_black_cell):\n",
    "        i = randint(0, column - 1)\n",
    "        j = randint(0, row - 1)\n",
    "        universe[i, j] = 1\n",
    "    return universe"
   ]
  },
  {
   "cell_type": "code",
   "execution_count": 54,
   "metadata": {},
   "outputs": [],
   "source": [
    "def find_neighbours(cell_ind: tuple, universe) -> None:\n",
    "    \"\"\" \n",
    "    be donbal hamsaye haye faal migardad yaani cell_array = 1\n",
    "    \"\"\"\n",
    "    num_neighbours = 0\n",
    "    L0 = universe.shape[0]\n",
    "    L1 = universe.shape[1]\n",
    "\n",
    "    for i in [-1, 0, 1]:\n",
    "        for j in [-1, 0, 1]:\n",
    "            if (i != 0) or (j != 0):\n",
    "                if cell_ind[0] + i == L0:\n",
    "                    i = -cell_ind[0]\n",
    "                if cell_ind[1] + j == L1:\n",
    "                    j = -cell_ind[1]\n",
    "                if universe[cell_ind[0] + i, cell_ind[1] + j] == 1:\n",
    "                    num_neighbours += 1\n",
    "    return num_neighbours"
   ]
  },
  {
   "cell_type": "code",
   "execution_count": 55,
   "metadata": {},
   "outputs": [],
   "source": [
    "def pass_time(universe):\n",
    "    \"\"\"\n",
    "    adress tamami hamsayeha ra pehda mikonad.\n",
    "    va 3 ghaeede bazi barayash taarif shode ast.\n",
    "    \"\"\"\n",
    "    num_neighbours_map = np.zeros(universe.shape)\n",
    "\n",
    "    for i in range(universe.shape[0]):\n",
    "        for j in range(universe.shape[1]):\n",
    "            num_neighbours_map[i, j] = find_neighbours((i, j), universe)\n",
    "            \n",
    "    new_universe = np.zeros(universe.shape)\n",
    "    survivors = (universe == 1) & ((num_neighbours_map == 2) | (num_neighbours_map == 3))\n",
    "    zombie = (universe == 0) & (num_neighbours_map == 3)\n",
    "    new_universe = ((survivors == 1) | (zombie == 1))\n",
    "\n",
    "    return new_universe"
   ]
  },
  {
   "cell_type": "code",
   "execution_count": 56,
   "metadata": {},
   "outputs": [
    {
     "data": {
      "image/png": "[encoded data removed]",
      "text/plain": [
       "<Figure size 504x504 with 1 Axes>"
      ]
     },
     "metadata": {
      "needs_background": "light"
     },
     "output_type": "display_data"
    }
   ],
   "source": [
    "# adad vared shode dae parantez teedad cell = 1 mibashad\n",
    "new_universe = build_cell(500)\n",
    "# num_turns teedad dafaat run shodan barname hast\n",
    "num_turns = 100\n",
    "\n",
    "for _ in range(num_turns):\n",
    "    new_universe = pass_time(new_universe)\n",
    "    plt.figure(figsize=(7, 7))\n",
    "    plt.imshow(new_universe, cmap='Greys')\n",
    "    plt.show()\n",
    "    sleep(0.1)\n",
    "    clear_output(wait=True)"
   ]
  }
 ],
 "metadata": {
  "kernelspec": {
   "display_name": "Python 3.10.4 64-bit",
   "language": "python",
   "name": "python3"
  },
  "language_info": {
   "codemirror_mode": {
    "name": "ipython",
    "version": 3
   },
   "file_extension": ".py",
   "mimetype": "text/x-python",
   "name": "python",
   "nbconvert_exporter": "python",
   "pygments_lexer": "ipython3",
   "version": "3.10.4"
  },
  "orig_nbformat": 4,
  "vscode": {
   "interpreter": {
    "hash": "9a04dbfbe215b13b854bddd6b429b2c7cb84b0bc1630f2d25a24cb76a9bcf55a"
   }
  }
 },
 "nbformat": 4,
 "nbformat_minor": 2
}
